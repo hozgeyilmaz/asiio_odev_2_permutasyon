{
  "nbformat": 4,
  "nbformat_minor": 0,
  "metadata": {
    "colab": {
      "name": "Untitled3.ipynb",
      "version": "0.3.2",
      "provenance": [],
      "include_colab_link": true
    },
    "kernelspec": {
      "name": "python3",
      "display_name": "Python 3"
    }
  },
  "cells": [
    {
      "cell_type": "markdown",
      "metadata": {
        "id": "view-in-github",
        "colab_type": "text"
      },
      "source": [
        "<a href=\"https://colab.research.google.com/github/hozgeyilmaz/asiio_odev_2_permutasyon/blob/master/asiio_odev_2_permutasyon_ornegi.ipynb\" target=\"_parent\"><img src=\"https://colab.research.google.com/assets/colab-badge.svg\" alt=\"Open In Colab\"/></a>"
      ]
    },
    {
      "metadata": {
        "id": "NJqST2Q67WRM",
        "colab_type": "text"
      },
      "cell_type": "markdown",
      "source": [
        "PERMÜTASYON:\n",
        "\n",
        "r ve n pozitif doğal sayılar ve r < n olmak üzere , n elemanlı bir A kümesinin r elemanlı sıralı r’ lilerine A kümesinin r’ li permütasyonları denir.\n",
        "n elemanlı A kümesinin r’ li permütasyonlarının sayısı P (n,r) = n! / (n-r)! formülü ile bulunur.\n",
        "\n"
      ]
    },
    {
      "metadata": {
        "id": "7s9taQbF7qPx",
        "colab_type": "text"
      },
      "cell_type": "markdown",
      "source": [
        "Permütasyon Örneği:\n",
        "Kullanıcı tarafından girilen isimdeki harflerden, kullanıcı tarafından belirlenen (r) tanesinin yan yana seçilmesi kaç farklı şekilde gerçekleşir?"
      ]
    },
    {
      "metadata": {
        "id": "FkXjXvq33Vpq",
        "colab_type": "code",
        "colab": {}
      },
      "cell_type": "code",
      "source": [
        "isim= input(\"isim giriniz:\")\n",
        "n=len(isim)\n",
        "r= int(input(\"sayi griniz:\"))\n",
        "print(\"Girilen isim\", isim, end=\"\\n\")\n",
        "print(\"Girilen sayi\", r, end=\"\\n\")"
      ],
      "execution_count": 0,
      "outputs": []
    },
    {
      "metadata": {
        "id": "z2eg5cqo3XbF",
        "colab_type": "text"
      },
      "cell_type": "markdown",
      "source": [
        "Kullanıcıdan 2 adet değer girmesi beklenmektedir. İsim ve ismin içinden seçilecek harf değerleri kullanıcı tarafından girilmektedir."
      ]
    },
    {
      "metadata": {
        "id": "MhbTU2kB3895",
        "colab_type": "code",
        "colab": {}
      },
      "cell_type": "code",
      "source": [
        "\n",
        "def faktoriyel(x):\n",
        "    carpim=1\n",
        "    i=1\n",
        "    while i<=x:\n",
        "        carpim=carpim*i  \n",
        "        i=i+1\n",
        "    return carpim"
      ],
      "execution_count": 0,
      "outputs": []
    },
    {
      "metadata": {
        "id": "_9m1oogh3-Bj",
        "colab_type": "text"
      },
      "cell_type": "markdown",
      "source": [
        "Permütasyon hesaplamada yararlanılacak faktöriyel hesaplama adımı fonksiyon olarak tanımlanmıştır. Faktöriyel hesaplaması yapılmak istenenen yerde fonksiyonun çağrılması yeterli olacaktır. "
      ]
    },
    {
      "metadata": {
        "id": "Sm__HRBv4pjw",
        "colab_type": "code",
        "colab": {}
      },
      "cell_type": "code",
      "source": [
        "sonuc=faktoriyel(n)/(faktoriyel(n-r)) \n",
        "\n",
        "\n",
        "print(\"Girdiginiz\",isim,\"ismindeki harflerden\",r,\"tanesinin yanyana secilmesi  \",sonuc, \"farkli sekilde gerceklesir\")"
      ],
      "execution_count": 0,
      "outputs": []
    },
    {
      "metadata": {
        "id": "Fadb0DjP5DkW",
        "colab_type": "text"
      },
      "cell_type": "markdown",
      "source": [
        " Permutasyon=P(n,r)=n!/(n-r)! şeklinde hesaplanır.\n",
        " \n",
        " Bu örnekte kullanıcı tarafından girilecek olan isim degeri = n \n",
        " Kullanıcı tarafından girilecek olan sayi degeri = r olacaktır.\n",
        " Formüle göre hesaplanarak sonuc degeri döndürülmektedir."
      ]
    }
  ]
}